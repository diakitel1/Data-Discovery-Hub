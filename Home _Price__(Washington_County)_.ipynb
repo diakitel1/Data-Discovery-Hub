{
 "cells": [
  {
   "cell_type": "markdown",
   "metadata": {
    "application/vnd.databricks.v1+cell": {
     "cellMetadata": {},
     "inputWidgets": {},
     "nuid": "4c4c3d2b-f82a-4979-a1dc-721aa7fee4f4",
     "showTitle": false,
     "title": ""
    },
    "id": "G-3nvvEBGVUQ"
   },
   "source": [
    "1. Import required packages.\n",
    "2. Load the data file\n",
    "3. Select only the following columns from the dataset: 'PROPERTY TYPE', 'PRICE', 'BEDS', 'BATHS', 'SQUARE FEET', 'LOT SIZE'.\n",
    "\n",
    "3 pts."
   ]
  },
  {
   "cell_type": "code",
   "execution_count": 0,
   "metadata": {
    "application/vnd.databricks.v1+cell": {
     "cellMetadata": {},
     "inputWidgets": {},
     "nuid": "e9224f24-75ee-49bf-86c3-016f01c612b4",
     "showTitle": false,
     "title": ""
    },
    "id": "QX7DsG0vT6Xd"
   },
   "outputs": [],
   "source": [
    "import pandas as pd\n",
    "import seaborn as sns\n",
    "import numpy as np\n",
    "from sklearn.model_selection import train_test_split\n",
    "from sklearn.linear_model import LinearRegression\n",
    "import math"
   ]
  },
  {
   "cell_type": "code",
   "execution_count": 0,
   "metadata": {
    "application/vnd.databricks.v1+cell": {
     "cellMetadata": {},
     "inputWidgets": {},
     "nuid": "a9843173-4f00-4e65-a9d8-52bab7feed87",
     "showTitle": false,
     "title": ""
    },
    "id": "_JgKFDTcUELy"
   },
   "outputs": [],
   "source": [
    "from google.colab import files"
   ]
  },
  {
   "cell_type": "code",
   "execution_count": 0,
   "metadata": {
    "application/vnd.databricks.v1+cell": {
     "cellMetadata": {},
     "inputWidgets": {},
     "nuid": "7bb4fc30-753f-4281-80fa-961376730861",
     "showTitle": false,
     "title": ""
    },
    "colab": {
     "base_uri": "https://localhost:8080/",
     "height": 72
    },
    "id": "Wvbn-rqhUPya",
    "outputId": "d0e0369c-a147-49fa-bb7b-9f5e5bb59795"
   },
   "outputs": [
    {
     "output_type": "display_data",
     "data": {
      "text/html": [
       "\n",
       "     <input type=\"file\" id=\"files-2b44a70d-5d37-448b-94cf-83058681be87\" name=\"files[]\" multiple disabled\n",
       "        style=\"border:none\" />\n",
       "     <output id=\"result-2b44a70d-5d37-448b-94cf-83058681be87\">\n",
       "      Upload widget is only available when the cell has been executed in the\n",
       "      current browser session. Please rerun this cell to enable.\n",
       "      </output>\n",
       "      <script>// Copyright 2017 Google LLC\n",
       "//\n",
       "// Licensed under the Apache License, Version 2.0 (the \"License\");\n",
       "// you may not use this file except in compliance with the License.\n",
       "// You may obtain a copy of the License at\n",
       "//\n",
       "//      http://www.apache.org/licenses/LICENSE-2.0\n",
       "//\n",
       "// Unless required by applicable law or agreed to in writing, software\n",
       "// distributed under the License is distributed on an \"AS IS\" BASIS,\n",
       "// WITHOUT WARRANTIES OR CONDITIONS OF ANY KIND, either express or implied.\n",
       "// See the License for the specific language governing permissions and\n",
       "// limitations under the License.\n",
       "\n",
       "/**\n",
       " * @fileoverview Helpers for google.colab Python module.\n",
       " */\n",
       "(function(scope) {\n",
       "function span(text, styleAttributes = {}) {\n",
       "  const element = document.createElement('span');\n",
       "  element.textContent = text;\n",
       "  for (const key of Object.keys(styleAttributes)) {\n",
       "    element.style[key] = styleAttributes[key];\n",
       "  }\n",
       "  return element;\n",
       "}\n",
       "\n",
       "// Max number of bytes which will be uploaded at a time.\n",
       "const MAX_PAYLOAD_SIZE = 100 * 1024;\n",
       "\n",
       "function _uploadFiles(inputId, outputId) {\n",
       "  const steps = uploadFilesStep(inputId, outputId);\n",
       "  const outputElement = document.getElementById(outputId);\n",
       "  // Cache steps on the outputElement to make it available for the next call\n",
       "  // to uploadFilesContinue from Python.\n",
       "  outputElement.steps = steps;\n",
       "\n",
       "  return _uploadFilesContinue(outputId);\n",
       "}\n",
       "\n",
       "// This is roughly an async generator (not supported in the browser yet),\n",
       "// where there are multiple asynchronous steps and the Python side is going\n",
       "// to poll for completion of each step.\n",
       "// This uses a Promise to block the python side on completion of each step,\n",
       "// then passes the result of the previous step as the input to the next step.\n",
       "function _uploadFilesContinue(outputId) {\n",
       "  const outputElement = document.getElementById(outputId);\n",
       "  const steps = outputElement.steps;\n",
       "\n",
       "  const next = steps.next(outputElement.lastPromiseValue);\n",
       "  return Promise.resolve(next.value.promise).then((value) => {\n",
       "    // Cache the last promise value to make it available to the next\n",
       "    // step of the generator.\n",
       "    outputElement.lastPromiseValue = value;\n",
       "    return next.value.response;\n",
       "  });\n",
       "}\n",
       "\n",
       "/**\n",
       " * Generator function which is called between each async step of the upload\n",
       " * process.\n",
       " * @param {string} inputId Element ID of the input file picker element.\n",
       " * @param {string} outputId Element ID of the output display.\n",
       " * @return {!Iterable<!Object>} Iterable of next steps.\n",
       " */\n",
       "function* uploadFilesStep(inputId, outputId) {\n",
       "  const inputElement = document.getElementById(inputId);\n",
       "  inputElement.disabled = false;\n",
       "\n",
       "  const outputElement = document.getElementById(outputId);\n",
       "  outputElement.innerHTML = '';\n",
       "\n",
       "  const pickedPromise = new Promise((resolve) => {\n",
       "    inputElement.addEventListener('change', (e) => {\n",
       "      resolve(e.target.files);\n",
       "    });\n",
       "  });\n",
       "\n",
       "  const cancel = document.createElement('button');\n",
       "  inputElement.parentElement.appendChild(cancel);\n",
       "  cancel.textContent = 'Cancel upload';\n",
       "  const cancelPromise = new Promise((resolve) => {\n",
       "    cancel.onclick = () => {\n",
       "      resolve(null);\n",
       "    };\n",
       "  });\n",
       "\n",
       "  // Wait for the user to pick the files.\n",
       "  const files = yield {\n",
       "    promise: Promise.race([pickedPromise, cancelPromise]),\n",
       "    response: {\n",
       "      action: 'starting',\n",
       "    }\n",
       "  };\n",
       "\n",
       "  cancel.remove();\n",
       "\n",
       "  // Disable the input element since further picks are not allowed.\n",
       "  inputElement.disabled = true;\n",
       "\n",
       "  if (!files) {\n",
       "    return {\n",
       "      response: {\n",
       "        action: 'complete',\n",
       "      }\n",
       "    };\n",
       "  }\n",
       "\n",
       "  for (const file of files) {\n",
       "    const li = document.createElement('li');\n",
       "    li.append(span(file.name, {fontWeight: 'bold'}));\n",
       "    li.append(span(\n",
       "        `(${file.type || 'n/a'}) - ${file.size} bytes, ` +\n",
       "        `last modified: ${\n",
       "            file.lastModifiedDate ? file.lastModifiedDate.toLocaleDateString() :\n",
       "                                    'n/a'} - `));\n",
       "    const percent = span('0% done');\n",
       "    li.appendChild(percent);\n",
       "\n",
       "    outputElement.appendChild(li);\n",
       "\n",
       "    const fileDataPromise = new Promise((resolve) => {\n",
       "      const reader = new FileReader();\n",
       "      reader.onload = (e) => {\n",
       "        resolve(e.target.result);\n",
       "      };\n",
       "      reader.readAsArrayBuffer(file);\n",
       "    });\n",
       "    // Wait for the data to be ready.\n",
       "    let fileData = yield {\n",
       "      promise: fileDataPromise,\n",
       "      response: {\n",
       "        action: 'continue',\n",
       "      }\n",
       "    };\n",
       "\n",
       "    // Use a chunked sending to avoid message size limits. See b/62115660.\n",
       "    let position = 0;\n",
       "    do {\n",
       "      const length = Math.min(fileData.byteLength - position, MAX_PAYLOAD_SIZE);\n",
       "      const chunk = new Uint8Array(fileData, position, length);\n",
       "      position += length;\n",
       "\n",
       "      const base64 = btoa(String.fromCharCode.apply(null, chunk));\n",
       "      yield {\n",
       "        response: {\n",
       "          action: 'append',\n",
       "          file: file.name,\n",
       "          data: base64,\n",
       "        },\n",
       "      };\n",
       "\n",
       "      let percentDone = fileData.byteLength === 0 ?\n",
       "          100 :\n",
       "          Math.round((position / fileData.byteLength) * 100);\n",
       "      percent.textContent = `${percentDone}% done`;\n",
       "\n",
       "    } while (position < fileData.byteLength);\n",
       "  }\n",
       "\n",
       "  // All done.\n",
       "  yield {\n",
       "    response: {\n",
       "      action: 'complete',\n",
       "    }\n",
       "  };\n",
       "}\n",
       "\n",
       "scope.google = scope.google || {};\n",
       "scope.google.colab = scope.google.colab || {};\n",
       "scope.google.colab._files = {\n",
       "  _uploadFiles,\n",
       "  _uploadFilesContinue,\n",
       "};\n",
       "})(self);\n",
       "</script> "
      ],
      "text/plain": [
       "<IPython.core.display.HTML object>"
      ]
     },
     "metadata": {},
     "output_type": "display_data"
    },
    {
     "output_type": "stream",
     "name": "stdout",
     "output_type": "stream",
     "text": [
      "Saving Washington County.xlsx to Washington County.xlsx\n"
     ]
    }
   ],
   "source": [
    "uploaded=files.upload()"
   ]
  },
  {
   "cell_type": "code",
   "execution_count": 0,
   "metadata": {
    "application/vnd.databricks.v1+cell": {
     "cellMetadata": {},
     "inputWidgets": {},
     "nuid": "251c415d-b951-453c-a7e9-4f0893b12463",
     "showTitle": false,
     "title": ""
    },
    "colab": {
     "base_uri": "https://localhost:8080/",
     "height": 560
    },
    "id": "iZjjA3exL-Ay",
    "outputId": "cd6734ab-e7ff-48c7-917d-e05ba0c44b86"
   },
   "outputs": [
    {
     "output_type": "execute_result",
     "data": {
      "text/html": [
       "\n",
       "  <div id=\"df-be2fe5b1-2685-406b-80dd-2d55ced84f19\">\n",
       "    <div class=\"colab-df-container\">\n",
       "      <div>\n",
       "<style scoped>\n",
       "    .dataframe tbody tr th:only-of-type {\n",
       "        vertical-align: middle;\n",
       "    }\n",
       "\n",
       "    .dataframe tbody tr th {\n",
       "        vertical-align: top;\n",
       "    }\n",
       "\n",
       "    .dataframe thead th {\n",
       "        text-align: right;\n",
       "    }\n",
       "</style>\n",
       "<table border=\"1\" class=\"dataframe\">\n",
       "  <thead>\n",
       "    <tr style=\"text-align: right;\">\n",
       "      <th></th>\n",
       "      <th>SALE TYPE</th>\n",
       "      <th>SOLD DATE</th>\n",
       "      <th>PROPERTY TYPE</th>\n",
       "      <th>ADDRESS</th>\n",
       "      <th>CITY</th>\n",
       "      <th>STATE OR PROVINCE</th>\n",
       "      <th>ZIP OR POSTAL CODE</th>\n",
       "      <th>PRICE</th>\n",
       "      <th>BEDS</th>\n",
       "      <th>BATHS</th>\n",
       "      <th>...</th>\n",
       "      <th>STATUS</th>\n",
       "      <th>NEXT OPEN HOUSE START TIME</th>\n",
       "      <th>NEXT OPEN HOUSE END TIME</th>\n",
       "      <th>URL (SEE https://www.redfin.com/buy-a-home/comparative-market-analysis FOR INFO ON PRICING)</th>\n",
       "      <th>SOURCE</th>\n",
       "      <th>MLS#</th>\n",
       "      <th>FAVORITE</th>\n",
       "      <th>INTERESTED</th>\n",
       "      <th>LATITUDE</th>\n",
       "      <th>LONGITUDE</th>\n",
       "    </tr>\n",
       "  </thead>\n",
       "  <tbody>\n",
       "    <tr>\n",
       "      <th>0</th>\n",
       "      <td>MLS Listing</td>\n",
       "      <td>NaN</td>\n",
       "      <td>Single Family Residential</td>\n",
       "      <td>2 Ninigret Ave</td>\n",
       "      <td>Westerly</td>\n",
       "      <td>RI</td>\n",
       "      <td>2891</td>\n",
       "      <td>8500000</td>\n",
       "      <td>8.0</td>\n",
       "      <td>5.5</td>\n",
       "      <td>...</td>\n",
       "      <td>Active</td>\n",
       "      <td>NaN</td>\n",
       "      <td>NaN</td>\n",
       "      <td>https://www.redfin.com/RI/Westerly/2-Ninigret-...</td>\n",
       "      <td>RIS</td>\n",
       "      <td>1330544</td>\n",
       "      <td>N</td>\n",
       "      <td>Y</td>\n",
       "      <td>41.314558</td>\n",
       "      <td>-71.849397</td>\n",
       "    </tr>\n",
       "    <tr>\n",
       "      <th>1</th>\n",
       "      <td>MLS Listing</td>\n",
       "      <td>NaN</td>\n",
       "      <td>Single Family Residential</td>\n",
       "      <td>691 Q Succotash Rd</td>\n",
       "      <td>South Kingstown</td>\n",
       "      <td>RI</td>\n",
       "      <td>2879</td>\n",
       "      <td>359000</td>\n",
       "      <td>1.0</td>\n",
       "      <td>1.0</td>\n",
       "      <td>...</td>\n",
       "      <td>Active</td>\n",
       "      <td>NaN</td>\n",
       "      <td>NaN</td>\n",
       "      <td>https://www.redfin.com/RI/South-Kingstown/691Q...</td>\n",
       "      <td>RIS</td>\n",
       "      <td>1330116</td>\n",
       "      <td>N</td>\n",
       "      <td>Y</td>\n",
       "      <td>41.384345</td>\n",
       "      <td>-71.527036</td>\n",
       "    </tr>\n",
       "    <tr>\n",
       "      <th>2</th>\n",
       "      <td>MLS Listing</td>\n",
       "      <td>NaN</td>\n",
       "      <td>Single Family Residential</td>\n",
       "      <td>18 Mathewson St</td>\n",
       "      <td>Narragansett</td>\n",
       "      <td>RI</td>\n",
       "      <td>2882</td>\n",
       "      <td>2495000</td>\n",
       "      <td>6.0</td>\n",
       "      <td>5.0</td>\n",
       "      <td>...</td>\n",
       "      <td>Active</td>\n",
       "      <td>NaN</td>\n",
       "      <td>NaN</td>\n",
       "      <td>https://www.redfin.com/RI/Narragansett/18-Math...</td>\n",
       "      <td>RIS</td>\n",
       "      <td>1330583</td>\n",
       "      <td>N</td>\n",
       "      <td>Y</td>\n",
       "      <td>41.429789</td>\n",
       "      <td>-71.456768</td>\n",
       "    </tr>\n",
       "    <tr>\n",
       "      <th>3</th>\n",
       "      <td>MLS Listing</td>\n",
       "      <td>NaN</td>\n",
       "      <td>Single Family Residential</td>\n",
       "      <td>36 Crestwood Dr</td>\n",
       "      <td>South Kingstown</td>\n",
       "      <td>RI</td>\n",
       "      <td>2881</td>\n",
       "      <td>574900</td>\n",
       "      <td>3.0</td>\n",
       "      <td>2.0</td>\n",
       "      <td>...</td>\n",
       "      <td>Active</td>\n",
       "      <td>March-5-2023 12:00 PM</td>\n",
       "      <td>March-5-2023 02:00 PM</td>\n",
       "      <td>https://www.redfin.com/RI/Kingston/36-Crestwoo...</td>\n",
       "      <td>RIS</td>\n",
       "      <td>1329996</td>\n",
       "      <td>N</td>\n",
       "      <td>Y</td>\n",
       "      <td>41.476440</td>\n",
       "      <td>-71.533285</td>\n",
       "    </tr>\n",
       "    <tr>\n",
       "      <th>4</th>\n",
       "      <td>MLS Listing</td>\n",
       "      <td>NaN</td>\n",
       "      <td>Vacant Land</td>\n",
       "      <td>155 Dunns Corner Rd</td>\n",
       "      <td>Westerly</td>\n",
       "      <td>RI</td>\n",
       "      <td>2891</td>\n",
       "      <td>169000</td>\n",
       "      <td>NaN</td>\n",
       "      <td>NaN</td>\n",
       "      <td>...</td>\n",
       "      <td>Active</td>\n",
       "      <td>NaN</td>\n",
       "      <td>NaN</td>\n",
       "      <td>https://www.redfin.com/RI/Westerly/155-Dunns-C...</td>\n",
       "      <td>RIS</td>\n",
       "      <td>1330530</td>\n",
       "      <td>N</td>\n",
       "      <td>Y</td>\n",
       "      <td>41.375229</td>\n",
       "      <td>-71.763605</td>\n",
       "    </tr>\n",
       "  </tbody>\n",
       "</table>\n",
       "<p>5 rows × 27 columns</p>\n",
       "</div>\n",
       "      <button class=\"colab-df-convert\" onclick=\"convertToInteractive('df-be2fe5b1-2685-406b-80dd-2d55ced84f19')\"\n",
       "              title=\"Convert this dataframe to an interactive table.\"\n",
       "              style=\"display:none;\">\n",
       "        \n",
       "  <svg xmlns=\"http://www.w3.org/2000/svg\" height=\"24px\"viewBox=\"0 0 24 24\"\n",
       "       width=\"24px\">\n",
       "    <path d=\"M0 0h24v24H0V0z\" fill=\"none\"/>\n",
       "    <path d=\"M18.56 5.44l.94 2.06.94-2.06 2.06-.94-2.06-.94-.94-2.06-.94 2.06-2.06.94zm-11 1L8.5 8.5l.94-2.06 2.06-.94-2.06-.94L8.5 2.5l-.94 2.06-2.06.94zm10 10l.94 2.06.94-2.06 2.06-.94-2.06-.94-.94-2.06-.94 2.06-2.06.94z\"/><path d=\"M17.41 7.96l-1.37-1.37c-.4-.4-.92-.59-1.43-.59-.52 0-1.04.2-1.43.59L10.3 9.45l-7.72 7.72c-.78.78-.78 2.05 0 2.83L4 21.41c.39.39.9.59 1.41.59.51 0 1.02-.2 1.41-.59l7.78-7.78 2.81-2.81c.8-.78.8-2.07 0-2.86zM5.41 20L4 18.59l7.72-7.72 1.47 1.35L5.41 20z\"/>\n",
       "  </svg>\n",
       "      </button>\n",
       "      \n",
       "  <style>\n",
       "    .colab-df-container {\n",
       "      display:flex;\n",
       "      flex-wrap:wrap;\n",
       "      gap: 12px;\n",
       "    }\n",
       "\n",
       "    .colab-df-convert {\n",
       "      background-color: #E8F0FE;\n",
       "      border: none;\n",
       "      border-radius: 50%;\n",
       "      cursor: pointer;\n",
       "      display: none;\n",
       "      fill: #1967D2;\n",
       "      height: 32px;\n",
       "      padding: 0 0 0 0;\n",
       "      width: 32px;\n",
       "    }\n",
       "\n",
       "    .colab-df-convert:hover {\n",
       "      background-color: #E2EBFA;\n",
       "      box-shadow: 0px 1px 2px rgba(60, 64, 67, 0.3), 0px 1px 3px 1px rgba(60, 64, 67, 0.15);\n",
       "      fill: #174EA6;\n",
       "    }\n",
       "\n",
       "    [theme=dark] .colab-df-convert {\n",
       "      background-color: #3B4455;\n",
       "      fill: #D2E3FC;\n",
       "    }\n",
       "\n",
       "    [theme=dark] .colab-df-convert:hover {\n",
       "      background-color: #434B5C;\n",
       "      box-shadow: 0px 1px 3px 1px rgba(0, 0, 0, 0.15);\n",
       "      filter: drop-shadow(0px 1px 2px rgba(0, 0, 0, 0.3));\n",
       "      fill: #FFFFFF;\n",
       "    }\n",
       "  </style>\n",
       "\n",
       "      <script>\n",
       "        const buttonEl =\n",
       "          document.querySelector('#df-be2fe5b1-2685-406b-80dd-2d55ced84f19 button.colab-df-convert');\n",
       "        buttonEl.style.display =\n",
       "          google.colab.kernel.accessAllowed ? 'block' : 'none';\n",
       "\n",
       "        async function convertToInteractive(key) {\n",
       "          const element = document.querySelector('#df-be2fe5b1-2685-406b-80dd-2d55ced84f19');\n",
       "          const dataTable =\n",
       "            await google.colab.kernel.invokeFunction('convertToInteractive',\n",
       "                                                     [key], {});\n",
       "          if (!dataTable) return;\n",
       "\n",
       "          const docLinkHtml = 'Like what you see? Visit the ' +\n",
       "            '<a target=\"_blank\" href=https://colab.research.google.com/notebooks/data_table.ipynb>data table notebook</a>'\n",
       "            + ' to learn more about interactive tables.';\n",
       "          element.innerHTML = '';\n",
       "          dataTable['output_type'] = 'display_data';\n",
       "          await google.colab.output.renderOutput(dataTable, element);\n",
       "          const docLink = document.createElement('div');\n",
       "          docLink.innerHTML = docLinkHtml;\n",
       "          element.appendChild(docLink);\n",
       "        }\n",
       "      </script>\n",
       "    </div>\n",
       "  </div>\n",
       "  "
      ],
      "text/plain": [
       "     SALE TYPE  SOLD DATE              PROPERTY TYPE              ADDRESS  \\\n",
       "0  MLS Listing        NaN  Single Family Residential       2 Ninigret Ave   \n",
       "1  MLS Listing        NaN  Single Family Residential   691 Q Succotash Rd   \n",
       "2  MLS Listing        NaN  Single Family Residential      18 Mathewson St   \n",
       "3  MLS Listing        NaN  Single Family Residential      36 Crestwood Dr   \n",
       "4  MLS Listing        NaN                Vacant Land  155 Dunns Corner Rd   \n",
       "\n",
       "              CITY STATE OR PROVINCE  ZIP OR POSTAL CODE    PRICE  BEDS  \\\n",
       "0         Westerly                RI                2891  8500000   8.0   \n",
       "1  South Kingstown                RI                2879   359000   1.0   \n",
       "2     Narragansett                RI                2882  2495000   6.0   \n",
       "3  South Kingstown                RI                2881   574900   3.0   \n",
       "4         Westerly                RI                2891   169000   NaN   \n",
       "\n",
       "   BATHS  ...  STATUS  NEXT OPEN HOUSE START TIME  NEXT OPEN HOUSE END TIME  \\\n",
       "0    5.5  ...  Active                         NaN                       NaN   \n",
       "1    1.0  ...  Active                         NaN                       NaN   \n",
       "2    5.0  ...  Active                         NaN                       NaN   \n",
       "3    2.0  ...  Active       March-5-2023 12:00 PM     March-5-2023 02:00 PM   \n",
       "4    NaN  ...  Active                         NaN                       NaN   \n",
       "\n",
       "   URL (SEE https://www.redfin.com/buy-a-home/comparative-market-analysis FOR INFO ON PRICING)  \\\n",
       "0  https://www.redfin.com/RI/Westerly/2-Ninigret-...                                             \n",
       "1  https://www.redfin.com/RI/South-Kingstown/691Q...                                             \n",
       "2  https://www.redfin.com/RI/Narragansett/18-Math...                                             \n",
       "3  https://www.redfin.com/RI/Kingston/36-Crestwoo...                                             \n",
       "4  https://www.redfin.com/RI/Westerly/155-Dunns-C...                                             \n",
       "\n",
       "   SOURCE     MLS#  FAVORITE INTERESTED   LATITUDE  LONGITUDE  \n",
       "0     RIS  1330544         N          Y  41.314558 -71.849397  \n",
       "1     RIS  1330116         N          Y  41.384345 -71.527036  \n",
       "2     RIS  1330583         N          Y  41.429789 -71.456768  \n",
       "3     RIS  1329996         N          Y  41.476440 -71.533285  \n",
       "4     RIS  1330530         N          Y  41.375229 -71.763605  \n",
       "\n",
       "[5 rows x 27 columns]"
      ]
     },
     "execution_count": 4,
     "metadata": {},
     "output_type": "execute_result"
    }
   ],
   "source": [
    "import io\n",
    "df=pd.read_excel(io.BytesIO(uploaded['Washington County.xlsx']))\n",
    "df.head()"
   ]
  },
  {
   "cell_type": "code",
   "execution_count": 0,
   "metadata": {
    "application/vnd.databricks.v1+cell": {
     "cellMetadata": {},
     "inputWidgets": {},
     "nuid": "3c4ae1ba-e23f-4c40-a3ea-5aebef0a2de8",
     "showTitle": false,
     "title": ""
    },
    "id": "i8BaOG0yXJI-"
   },
   "outputs": [],
   "source": [
    "# Select only the required columns\n",
    "df = df[['PROPERTY TYPE', 'PRICE', 'BEDS', 'BATHS', 'SQUARE FEET', 'LOT SIZE']]"
   ]
  },
  {
   "cell_type": "markdown",
   "metadata": {
    "application/vnd.databricks.v1+cell": {
     "cellMetadata": {},
     "inputWidgets": {},
     "nuid": "2075cb01-d025-4c98-a124-9788279b2021",
     "showTitle": false,
     "title": ""
    },
    "id": "md8UC-CSGfe-"
   },
   "source": [
    "4. Check for missing values using a heatmap.\n",
    "5. Check data distribution by property type using a histogram (bar graph).\n",
    "6. Exclude records if appropriate.\n",
    "\n",
    "3 pts.\n",
    "\n"
   ]
  },
  {
   "cell_type": "code",
   "execution_count": 0,
   "metadata": {
    "application/vnd.databricks.v1+cell": {
     "cellMetadata": {},
     "inputWidgets": {},
     "nuid": "0b00f89b-9918-4567-b72e-5b4a7602f48d",
     "showTitle": false,
     "title": ""
    },
    "colab": {
     "base_uri": "https://localhost:8080/"
    },
    "id": "LXfkYUFaVh_s",
    "outputId": "3d56130c-c8ad-4d01-d372-ad54a1c3e9b1"
   },
   "outputs": [
    {
     "output_type": "stream",
     "name": "stdout",
     "output_type": "stream",
     "text": [
      "<class 'pandas.core.frame.DataFrame'>\nRangeIndex: 230 entries, 0 to 229\nData columns (total 6 columns):\n #   Column         Non-Null Count  Dtype  \n---  ------         --------------  -----  \n 0   PROPERTY TYPE  230 non-null    object \n 1   PRICE          230 non-null    int64  \n 2   BEDS           162 non-null    float64\n 3   BATHS          162 non-null    float64\n 4   SQUARE FEET    162 non-null    float64\n 5   LOT SIZE       208 non-null    float64\ndtypes: float64(4), int64(1), object(1)\nmemory usage: 10.9+ KB\n"
     ]
    }
   ],
   "source": [
    "df.info()"
   ]
  },
  {
   "cell_type": "code",
   "execution_count": 0,
   "metadata": {
    "application/vnd.databricks.v1+cell": {
     "cellMetadata": {},
     "inputWidgets": {},
     "nuid": "1fc39015-60aa-485b-aa57-c5909fa8ab72",
     "showTitle": false,
     "title": ""
    },
    "colab": {
     "base_uri": "https://localhost:8080/",
     "height": 355
    },
    "id": "Qk70ghtXUG0p",
    "outputId": "fbe63ad2-eb74-4288-f720-130b87e80bc3"
   },
   "outputs": [
    {
     "output_type": "execute_result",
     "data": {
      "text/plain": [
       "<AxesSubplot:>"
      ]
     },
     "execution_count": 7,
     "metadata": {},
     "output_type": "execute_result"
    },
    {
     "output_type": "display_data",
     "data": {
      "image/png": "[encoded data removed]",
      "text/plain": [
       "<Figure size 432x288 with 1 Axes>"
      ]
     },
     "metadata": {},
     "output_type": "display_data"
    }
   ],
   "source": [
    "#  missing values using heatmamp\n",
    "sns.heatmap(df.isnull(), cbar=False)"
   ]
  },
  {
   "cell_type": "code",
   "execution_count": 0,
   "metadata": {
    "application/vnd.databricks.v1+cell": {
     "cellMetadata": {},
     "inputWidgets": {},
     "nuid": "ec6d5b16-55df-4015-b967-ccbc699ac00f",
     "showTitle": false,
     "title": ""
    },
    "colab": {
     "base_uri": "https://localhost:8080/",
     "height": 377
    },
    "id": "qdM5_QfyWSlG",
    "outputId": "6993266e-d758-4582-cd20-080de65871e4"
   },
   "outputs": [
    {
     "output_type": "execute_result",
     "data": {
      "text/plain": [
       "<AxesSubplot:>"
      ]
     },
     "execution_count": 8,
     "metadata": {},
     "output_type": "execute_result"
    },
    {
     "output_type": "display_data",
     "data": {
      "image/png": "[encoded data removed]",
      "text/plain": [
       "<Figure size 432x288 with 1 Axes>"
      ]
     },
     "metadata": {},
     "output_type": "display_data"
    }
   ],
   "source": [
    "df['PROPERTY TYPE'].hist(xrot=45.0)"
   ]
  },
  {
   "cell_type": "code",
   "execution_count": 0,
   "metadata": {
    "application/vnd.databricks.v1+cell": {
     "cellMetadata": {},
     "inputWidgets": {},
     "nuid": "9e44c3b2-a4b5-4030-971d-32da5ad917f3",
     "showTitle": false,
     "title": ""
    },
    "id": "4MklfeqtYzOI"
   },
   "outputs": [],
   "source": [
    "PROPERTY_TYPE_To_Remove={'Mobile/manufactured Home','Multi-Family (2.4 Unit)'}\n",
    "df.drop(df[df['PROPERTY TYPE'].isin(PROPERTY_TYPE_To_Remove)].index, inplace= True)"
   ]
  },
  {
   "cell_type": "markdown",
   "metadata": {
    "application/vnd.databricks.v1+cell": {
     "cellMetadata": {},
     "inputWidgets": {},
     "nuid": "39f7cd86-628d-4fa0-9068-2dcd175cabd5",
     "showTitle": false,
     "title": ""
    },
    "id": "DobJga3kHQmi"
   },
   "source": [
    "7. Build a pairplot to evaluate data distributions and correlations.\n",
    "8. Comment whether the predictors: 1) have a linear relationship with the target (Price), 2) display constant variance (homoscedasticity), 3) contain outliers that need to be excluded.\n",
    "\n",
    "5 pts."
   ]
  },
  {
   "cell_type": "code",
   "execution_count": 0,
   "metadata": {
    "application/vnd.databricks.v1+cell": {
     "cellMetadata": {},
     "inputWidgets": {},
     "nuid": "86655516-ff94-463a-a1ae-11ff97001704",
     "showTitle": false,
     "title": ""
    },
    "colab": {
     "base_uri": "https://localhost:8080/",
     "height": 920
    },
    "id": "5zrok6wA5NZg",
    "outputId": "e0d1c8b7-c2ea-47ad-b11f-0a16b0048ab0"
   },
   "outputs": [
    {
     "output_type": "execute_result",
     "data": {
      "text/plain": [
       "<seaborn.axisgrid.PairGrid at 0x7ff45bce1ee0>"
      ]
     },
     "execution_count": 11,
     "metadata": {},
     "output_type": "execute_result"
    },
    {
     "output_type": "display_data",
     "data": {
      "image/png": "[encoded data removed]",
      "text/plain": [
       "<Figure size 900x900 with 30 Axes>"
      ]
     },
     "metadata": {},
     "output_type": "display_data"
    }
   ],
   "source": [
    "# Build pairplot\n",
    "sns.pairplot(df)"
   ]
  },
  {
   "cell_type": "code",
   "execution_count": 0,
   "metadata": {
    "application/vnd.databricks.v1+cell": {
     "cellMetadata": {},
     "inputWidgets": {},
     "nuid": "5c59cb4d-b9f8-4ef1-8174-f7cfc0bbd10c",
     "showTitle": false,
     "title": ""
    },
    "id": "Yc33DvDIZkW8"
   },
   "outputs": [],
   "source": [
    "# 1) There appears to be a linear relationship between PRICE and SQUARE FEET.\n",
    "# 2) There is some heteroscedasticity, with larger variance for higher prices and larger square footage.\n",
    "# 3) There are some outliers in the data, particularly for Lot Size  and  Square Feet. These may need to be excluded depending on the analysis being performed."
   ]
  },
  {
   "cell_type": "markdown",
   "metadata": {
    "application/vnd.databricks.v1+cell": {
     "cellMetadata": {},
     "inputWidgets": {},
     "nuid": "c6910569-ac95-4157-a4e9-beec2b397434",
     "showTitle": false,
     "title": ""
    },
    "id": "WPXR5RayH_Rj"
   },
   "source": [
    "9. Remove outliers if necessary.\n",
    "10. Impute missing values as appropriate.\n",
    "\n",
    "2 pts.\n"
   ]
  },
  {
   "cell_type": "code",
   "execution_count": 0,
   "metadata": {
    "application/vnd.databricks.v1+cell": {
     "cellMetadata": {},
     "inputWidgets": {},
     "nuid": "f38c47be-4e06-4809-86db-0060f2a56bdf",
     "showTitle": false,
     "title": ""
    },
    "colab": {
     "base_uri": "https://localhost:8080/",
     "height": 300
    },
    "id": "NYtafAfoUNSK",
    "outputId": "61ea001f-c1b6-48bd-b2f9-67b95ba570d0"
   },
   "outputs": [
    {
     "output_type": "execute_result",
     "data": {
      "text/html": [
       "\n",
       "  <div id=\"df-a1f35608-85bc-48b1-b974-76289a1e90a8\">\n",
       "    <div class=\"colab-df-container\">\n",
       "      <div>\n",
       "<style scoped>\n",
       "    .dataframe tbody tr th:only-of-type {\n",
       "        vertical-align: middle;\n",
       "    }\n",
       "\n",
       "    .dataframe tbody tr th {\n",
       "        vertical-align: top;\n",
       "    }\n",
       "\n",
       "    .dataframe thead th {\n",
       "        text-align: right;\n",
       "    }\n",
       "</style>\n",
       "<table border=\"1\" class=\"dataframe\">\n",
       "  <thead>\n",
       "    <tr style=\"text-align: right;\">\n",
       "      <th></th>\n",
       "      <th>PRICE</th>\n",
       "      <th>BEDS</th>\n",
       "      <th>BATHS</th>\n",
       "      <th>SQUARE FEET</th>\n",
       "      <th>LOT SIZE</th>\n",
       "    </tr>\n",
       "  </thead>\n",
       "  <tbody>\n",
       "    <tr>\n",
       "      <th>count</th>\n",
       "      <td>2.300000e+02</td>\n",
       "      <td>162.000000</td>\n",
       "      <td>162.000000</td>\n",
       "      <td>162.000000</td>\n",
       "      <td>2.080000e+02</td>\n",
       "    </tr>\n",
       "    <tr>\n",
       "      <th>mean</th>\n",
       "      <td>1.353450e+06</td>\n",
       "      <td>3.444444</td>\n",
       "      <td>2.561728</td>\n",
       "      <td>2401.864198</td>\n",
       "      <td>1.670111e+05</td>\n",
       "    </tr>\n",
       "    <tr>\n",
       "      <th>std</th>\n",
       "      <td>2.148478e+06</td>\n",
       "      <td>1.810940</td>\n",
       "      <td>1.376111</td>\n",
       "      <td>1575.198588</td>\n",
       "      <td>5.163200e+05</td>\n",
       "    </tr>\n",
       "    <tr>\n",
       "      <th>min</th>\n",
       "      <td>1.000000e+04</td>\n",
       "      <td>1.000000</td>\n",
       "      <td>1.000000</td>\n",
       "      <td>255.000000</td>\n",
       "      <td>2.500000e+03</td>\n",
       "    </tr>\n",
       "    <tr>\n",
       "      <th>25%</th>\n",
       "      <td>3.250000e+05</td>\n",
       "      <td>2.000000</td>\n",
       "      <td>2.000000</td>\n",
       "      <td>1356.000000</td>\n",
       "      <td>1.481000e+04</td>\n",
       "    </tr>\n",
       "    <tr>\n",
       "      <th>50%</th>\n",
       "      <td>6.045000e+05</td>\n",
       "      <td>3.000000</td>\n",
       "      <td>2.500000</td>\n",
       "      <td>2000.000000</td>\n",
       "      <td>3.627750e+04</td>\n",
       "    </tr>\n",
       "    <tr>\n",
       "      <th>75%</th>\n",
       "      <td>1.256000e+06</td>\n",
       "      <td>4.000000</td>\n",
       "      <td>3.000000</td>\n",
       "      <td>3027.000000</td>\n",
       "      <td>9.855450e+04</td>\n",
       "    </tr>\n",
       "    <tr>\n",
       "      <th>max</th>\n",
       "      <td>1.450000e+07</td>\n",
       "      <td>16.000000</td>\n",
       "      <td>10.500000</td>\n",
       "      <td>10077.000000</td>\n",
       "      <td>5.537347e+06</td>\n",
       "    </tr>\n",
       "  </tbody>\n",
       "</table>\n",
       "</div>\n",
       "      <button class=\"colab-df-convert\" onclick=\"convertToInteractive('df-a1f35608-85bc-48b1-b974-76289a1e90a8')\"\n",
       "              title=\"Convert this dataframe to an interactive table.\"\n",
       "              style=\"display:none;\">\n",
       "        \n",
       "  <svg xmlns=\"http://www.w3.org/2000/svg\" height=\"24px\"viewBox=\"0 0 24 24\"\n",
       "       width=\"24px\">\n",
       "    <path d=\"M0 0h24v24H0V0z\" fill=\"none\"/>\n",
       "    <path d=\"M18.56 5.44l.94 2.06.94-2.06 2.06-.94-2.06-.94-.94-2.06-.94 2.06-2.06.94zm-11 1L8.5 8.5l.94-2.06 2.06-.94-2.06-.94L8.5 2.5l-.94 2.06-2.06.94zm10 10l.94 2.06.94-2.06 2.06-.94-2.06-.94-.94-2.06-.94 2.06-2.06.94z\"/><path d=\"M17.41 7.96l-1.37-1.37c-.4-.4-.92-.59-1.43-.59-.52 0-1.04.2-1.43.59L10.3 9.45l-7.72 7.72c-.78.78-.78 2.05 0 2.83L4 21.41c.39.39.9.59 1.41.59.51 0 1.02-.2 1.41-.59l7.78-7.78 2.81-2.81c.8-.78.8-2.07 0-2.86zM5.41 20L4 18.59l7.72-7.72 1.47 1.35L5.41 20z\"/>\n",
       "  </svg>\n",
       "      </button>\n",
       "      \n",
       "  <style>\n",
       "    .colab-df-container {\n",
       "      display:flex;\n",
       "      flex-wrap:wrap;\n",
       "      gap: 12px;\n",
       "    }\n",
       "\n",
       "    .colab-df-convert {\n",
       "      background-color: #E8F0FE;\n",
       "      border: none;\n",
       "      border-radius: 50%;\n",
       "      cursor: pointer;\n",
       "      display: none;\n",
       "      fill: #1967D2;\n",
       "      height: 32px;\n",
       "      padding: 0 0 0 0;\n",
       "      width: 32px;\n",
       "    }\n",
       "\n",
       "    .colab-df-convert:hover {\n",
       "      background-color: #E2EBFA;\n",
       "      box-shadow: 0px 1px 2px rgba(60, 64, 67, 0.3), 0px 1px 3px 1px rgba(60, 64, 67, 0.15);\n",
       "      fill: #174EA6;\n",
       "    }\n",
       "\n",
       "    [theme=dark] .colab-df-convert {\n",
       "      background-color: #3B4455;\n",
       "      fill: #D2E3FC;\n",
       "    }\n",
       "\n",
       "    [theme=dark] .colab-df-convert:hover {\n",
       "      background-color: #434B5C;\n",
       "      box-shadow: 0px 1px 3px 1px rgba(0, 0, 0, 0.15);\n",
       "      filter: drop-shadow(0px 1px 2px rgba(0, 0, 0, 0.3));\n",
       "      fill: #FFFFFF;\n",
       "    }\n",
       "  </style>\n",
       "\n",
       "      <script>\n",
       "        const buttonEl =\n",
       "          document.querySelector('#df-a1f35608-85bc-48b1-b974-76289a1e90a8 button.colab-df-convert');\n",
       "        buttonEl.style.display =\n",
       "          google.colab.kernel.accessAllowed ? 'block' : 'none';\n",
       "\n",
       "        async function convertToInteractive(key) {\n",
       "          const element = document.querySelector('#df-a1f35608-85bc-48b1-b974-76289a1e90a8');\n",
       "          const dataTable =\n",
       "            await google.colab.kernel.invokeFunction('convertToInteractive',\n",
       "                                                     [key], {});\n",
       "          if (!dataTable) return;\n",
       "\n",
       "          const docLinkHtml = 'Like what you see? Visit the ' +\n",
       "            '<a target=\"_blank\" href=https://colab.research.google.com/notebooks/data_table.ipynb>data table notebook</a>'\n",
       "            + ' to learn more about interactive tables.';\n",
       "          element.innerHTML = '';\n",
       "          dataTable['output_type'] = 'display_data';\n",
       "          await google.colab.output.renderOutput(dataTable, element);\n",
       "          const docLink = document.createElement('div');\n",
       "          docLink.innerHTML = docLinkHtml;\n",
       "          element.appendChild(docLink);\n",
       "        }\n",
       "      </script>\n",
       "    </div>\n",
       "  </div>\n",
       "  "
      ],
      "text/plain": [
       "              PRICE        BEDS       BATHS   SQUARE FEET      LOT SIZE\n",
       "count  2.300000e+02  162.000000  162.000000    162.000000  2.080000e+02\n",
       "mean   1.353450e+06    3.444444    2.561728   2401.864198  1.670111e+05\n",
       "std    2.148478e+06    1.810940    1.376111   1575.198588  5.163200e+05\n",
       "min    1.000000e+04    1.000000    1.000000    255.000000  2.500000e+03\n",
       "25%    3.250000e+05    2.000000    2.000000   1356.000000  1.481000e+04\n",
       "50%    6.045000e+05    3.000000    2.500000   2000.000000  3.627750e+04\n",
       "75%    1.256000e+06    4.000000    3.000000   3027.000000  9.855450e+04\n",
       "max    1.450000e+07   16.000000   10.500000  10077.000000  5.537347e+06"
      ]
     },
     "execution_count": 13,
     "metadata": {},
     "output_type": "execute_result"
    }
   ],
   "source": [
    "#Sumary\n",
    "df.describe()"
   ]
  },
  {
   "cell_type": "code",
   "execution_count": 0,
   "metadata": {
    "application/vnd.databricks.v1+cell": {
     "cellMetadata": {},
     "inputWidgets": {},
     "nuid": "5aaf91fb-cf28-46df-9d0c-7c8ca5919cd9",
     "showTitle": false,
     "title": ""
    },
    "id": "8rp-RAH-59Vo"
   },
   "outputs": [],
   "source": [
    "df.drop(df[df['SQUARE FEET']> 7500].index, inplace= True)\n",
    "df.drop(df[df['SQUARE FEET']> 2*1e6].index, inplace= True)"
   ]
  },
  {
   "cell_type": "code",
   "execution_count": 0,
   "metadata": {
    "application/vnd.databricks.v1+cell": {
     "cellMetadata": {},
     "inputWidgets": {},
     "nuid": "ae18a870-5f2c-48f7-bd80-59b86960467f",
     "showTitle": false,
     "title": ""
    },
    "id": "G4DIubOWlctH"
   },
   "outputs": [],
   "source": [
    "imputed=df.fillna(df.mean())"
   ]
  },
  {
   "cell_type": "code",
   "execution_count": 0,
   "metadata": {
    "application/vnd.databricks.v1+cell": {
     "cellMetadata": {},
     "inputWidgets": {},
     "nuid": "3b2ca5b0-2d45-4387-a513-207188e22698",
     "showTitle": false,
     "title": ""
    },
    "id": "5URKJ_J9tCDL"
   },
   "outputs": [],
   "source": [
    "imputed.describe()"
   ]
  },
  {
   "cell_type": "code",
   "execution_count": 0,
   "metadata": {
    "application/vnd.databricks.v1+cell": {
     "cellMetadata": {},
     "inputWidgets": {},
     "nuid": "6af4b20a-5ffa-4888-97af-07ebe7fe8b45",
     "showTitle": false,
     "title": ""
    },
    "colab": {
     "base_uri": "https://localhost:8080/"
    },
    "id": "UaOQePW8umKy",
    "outputId": "910efb9a-14f0-4a22-e950-d6c81cc9d614"
   },
   "outputs": [
    {
     "output_type": "execute_result",
     "data": {
      "text/plain": [
       "Index(['PROPERTY TYPE', 'PRICE', 'BEDS', 'BATHS', 'SQUARE FEET', 'LOT SIZE'], dtype='object')"
      ]
     },
     "execution_count": 16,
     "metadata": {},
     "output_type": "execute_result"
    }
   ],
   "source": [
    "imputed.columns"
   ]
  },
  {
   "cell_type": "markdown",
   "metadata": {
    "application/vnd.databricks.v1+cell": {
     "cellMetadata": {},
     "inputWidgets": {},
     "nuid": "924d64a8-5041-43fc-9ebe-ae3b73888d55",
     "showTitle": false,
     "title": ""
    },
    "id": "XwhiqA8UIScs"
   },
   "source": [
    "11. Split data 70/30 into training and test datasets.\n",
    "12. Build a multiple linear regression model to predict Price.\n",
    "13. Report R2, MAE, Max error, RMSE.\n",
    "14. Comment on whether the model performance would be acceptable for practitioners.\n",
    "\n",
    "7 pts."
   ]
  },
  {
   "cell_type": "code",
   "execution_count": 0,
   "metadata": {
    "application/vnd.databricks.v1+cell": {
     "cellMetadata": {},
     "inputWidgets": {},
     "nuid": "d46988af-3018-413e-865d-494280d4bb24",
     "showTitle": false,
     "title": ""
    },
    "id": "GjEZtfKPVyp2"
   },
   "outputs": [],
   "source": [
    "Predictors=['PROPERTY TYPE', 'BEDS', 'BATHS', 'SQUARE FEET', 'LOT SIZE']"
   ]
  },
  {
   "cell_type": "code",
   "execution_count": 0,
   "metadata": {
    "application/vnd.databricks.v1+cell": {
     "cellMetadata": {},
     "inputWidgets": {},
     "nuid": "1a486da5-bf67-4027-ad10-c5f5ac1d2e9b",
     "showTitle": false,
     "title": ""
    },
    "id": "G7KBmN_4vW2B"
   },
   "outputs": [],
   "source": [
    "X= pd.get_dummies(imputed[Predictors],drop_first=True)\n",
    "Y= imputed['PRICE']\n",
    "\n",
    "train_X, valid_X, train_Y, valid_Y= train_test_split(X, Y, test_size=0.3, random_state=1)"
   ]
  },
  {
   "cell_type": "code",
   "execution_count": 0,
   "metadata": {
    "application/vnd.databricks.v1+cell": {
     "cellMetadata": {},
     "inputWidgets": {},
     "nuid": "cbb51e61-5270-48c1-879a-ecb5eb98bfc5",
     "showTitle": false,
     "title": ""
    },
    "id": "9ElAk9eVw1mY"
   },
   "outputs": [],
   "source": [
    "re_prices=LinearRegression()\n",
    "re_prices.fit(train_X, train_Y)"
   ]
  },
  {
   "cell_type": "code",
   "execution_count": 0,
   "metadata": {
    "application/vnd.databricks.v1+cell": {
     "cellMetadata": {},
     "inputWidgets": {},
     "nuid": "f7bc804c-fef5-4eb4-a12d-110c550118ab",
     "showTitle": false,
     "title": ""
    },
    "colab": {
     "base_uri": "https://localhost:8080/"
    },
    "id": "0pLD92nAzEgf",
    "outputId": "25517e9d-bf8f-4ad1-f02b-a97ac80fe77a"
   },
   "outputs": [
    {
     "output_type": "execute_result",
     "data": {
      "text/plain": [
       "Index(['BEDS', 'BATHS', 'SQUARE FEET', 'LOT SIZE',\n",
       "       'PROPERTY TYPE_Mobile/Manufactured Home',\n",
       "       'PROPERTY TYPE_Multi-Family (2-4 Unit)',\n",
       "       'PROPERTY TYPE_Single Family Residential', 'PROPERTY TYPE_Vacant Land'],\n",
       "      dtype='object')"
      ]
     },
     "execution_count": 29,
     "metadata": {},
     "output_type": "execute_result"
    }
   ],
   "source": [
    "X.columns"
   ]
  },
  {
   "cell_type": "code",
   "execution_count": 0,
   "metadata": {
    "application/vnd.databricks.v1+cell": {
     "cellMetadata": {},
     "inputWidgets": {},
     "nuid": "c8b60a2b-4ed4-4725-84fc-b8f051c16fb8",
     "showTitle": false,
     "title": ""
    },
    "colab": {
     "base_uri": "https://localhost:8080/"
    },
    "id": "GHFfdYqDzpu6",
    "outputId": "8df09656-801a-4669-e48c-c55303b181ad"
   },
   "outputs": [
    {
     "output_type": "execute_result",
     "data": {
      "text/plain": [
       "-1684806.3600779271"
      ]
     },
     "execution_count": 30,
     "metadata": {},
     "output_type": "execute_result"
    }
   ],
   "source": [
    "re_prices.intercept_"
   ]
  },
  {
   "cell_type": "code",
   "execution_count": 0,
   "metadata": {
    "application/vnd.databricks.v1+cell": {
     "cellMetadata": {},
     "inputWidgets": {},
     "nuid": "b05c1173-4471-44c9-b56f-ed6af5f6502f",
     "showTitle": false,
     "title": ""
    },
    "colab": {
     "base_uri": "https://localhost:8080/"
    },
    "id": "eK7fIeTH0A2q",
    "outputId": "0ae188cc-2817-448a-d2a1-07d513662e13"
   },
   "outputs": [
    {
     "output_type": "execute_result",
     "data": {
      "text/plain": [
       "array([-1.02095743e+05,  7.89911844e+05,  4.32444533e+02,  1.64253892e+00,\n",
       "        4.88748974e+05, -5.50844670e+05,  5.49242569e+05, -6.38450342e+05])"
      ]
     },
     "execution_count": 31,
     "metadata": {},
     "output_type": "execute_result"
    }
   ],
   "source": [
    "re_prices.coef_"
   ]
  },
  {
   "cell_type": "code",
   "execution_count": 0,
   "metadata": {
    "application/vnd.databricks.v1+cell": {
     "cellMetadata": {},
     "inputWidgets": {},
     "nuid": "5568db43-b8bb-4dc2-afbe-e5d83da9a0f4",
     "showTitle": false,
     "title": ""
    },
    "id": "HOZls7f_4JZk"
   },
   "outputs": [],
   "source": [
    "from sklearn.metrics import mean_absolute_error, mean_squared_error, max_error, r2_score, explained_variance_score"
   ]
  },
  {
   "cell_type": "code",
   "execution_count": 0,
   "metadata": {
    "application/vnd.databricks.v1+cell": {
     "cellMetadata": {},
     "inputWidgets": {},
     "nuid": "8931b278-f93f-40aa-8c1d-9dda7540d864",
     "showTitle": false,
     "title": ""
    },
    "id": "xYlsQByX9Z9R"
   },
   "outputs": [],
   "source": [
    "pred_Y=re_prices.predict(valid_X)"
   ]
  },
  {
   "cell_type": "code",
   "execution_count": 0,
   "metadata": {
    "application/vnd.databricks.v1+cell": {
     "cellMetadata": {},
     "inputWidgets": {},
     "nuid": "c70cae7c-37d5-43b6-b573-2fb5c87d6212",
     "showTitle": false,
     "title": ""
    },
    "colab": {
     "base_uri": "https://localhost:8080/"
    },
    "id": "fXFhJqnQ7CIX",
    "outputId": "b6d13d1d-3ce2-472f-bbf0-10a1d751659c"
   },
   "outputs": [
    {
     "output_type": "stream",
     "name": "stdout",
     "output_type": "stream",
     "text": [
      "Regression model performance evoluation\nr2:  0.3090698862882889\nMAE:  895436.9302202939\nRMSE:  1259647.3396685652\nMax_error:  3766333.898818169\n"
     ]
    }
   ],
   "source": [
    "import math\n",
    "print('Regression model performance evoluation' )\n",
    "print('r2: ', r2_score(valid_Y, pred_Y))\n",
    "print('MAE: ', mean_absolute_error(valid_Y, pred_Y))\n",
    "print('RMSE: ', math.sqrt(mean_squared_error(valid_Y, pred_Y)))\n",
    "print('Max_error: ', max_error(valid_Y, pred_Y))\n",
    "\n"
   ]
  },
  {
   "cell_type": "code",
   "execution_count": 0,
   "metadata": {
    "application/vnd.databricks.v1+cell": {
     "cellMetadata": {},
     "inputWidgets": {},
     "nuid": "aa747115-f31f-4bfd-99a1-dcacf7709ef1",
     "showTitle": false,
     "title": ""
    },
    "id": "v1ONbeby_FAP"
   },
   "outputs": [],
   "source": [
    "#Comments\n",
    "#31% of variation in the price is explained  by the PROPERTY TYPE, BEDS, BATHS, SQUARE FEET, LOT SIZE.\n",
    "#The MAE tells us the mean absolute difference between the predicted values and the actual values in a dataset\n",
    "#The RMSE  tells us the average distance between the predicted values from the model and the actual values in the dataset.which is large in this case.\n",
    "#Max_error is the absolute value of the most significant difference between a predicted variable and its real value. If the Maximum Error is much bigger than the RMSE, it might mean that the model has not correctly predicted outliers.But in our study the outliers have been dropped.\n",
    "# The model is useful."
   ]
  },
  {
   "cell_type": "markdown",
   "metadata": {
    "application/vnd.databricks.v1+cell": {
     "cellMetadata": {},
     "inputWidgets": {},
     "nuid": "7914628a-5254-45e1-89c7-125d18707207",
     "showTitle": false,
     "title": ""
    },
    "id": "7gdM2wLEVzOG"
   },
   "source": []
  }
 ],
 "metadata": {
  "application/vnd.databricks.v1+notebook": {
   "dashboards": [],
   "language": "python",
   "notebookMetadata": {
    "pythonIndentUnit": 4
   },
   "notebookName": "Home _Price__(Washington_County)_",
   "widgets": {}
  },
  "colab": {
   "provenance": []
  },
  "kernelspec": {
   "display_name": "Python 3",
   "name": "python3"
  }
 },
 "nbformat": 4,
 "nbformat_minor": 0
}
